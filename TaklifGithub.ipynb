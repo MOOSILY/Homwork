{
 "cells": [
  {
   "cell_type": "code",
   "execution_count": null,
   "id": "b96b7f78-5805-45e5-b72f-e4f20fd6f4be",
   "metadata": {},
   "outputs": [],
   "source": []
  },
  {
   "cell_type": "code",
   "execution_count": 1,
   "id": "5d4dae03-3174-4fe5-a0de-cc41e55ccc6c",
   "metadata": {},
   "outputs": [
    {
     "name": "stdin",
     "output_type": "stream",
     "text": [
      "َAdad RA Ba Fasele Vared Konid:  1 2 3 4 \n"
     ]
    },
    {
     "name": "stdout",
     "output_type": "stream",
     "text": [
      "Sum Of Numbers: 10\n"
     ]
    }
   ],
   "source": [
    "def sum_of_list(numbers):\n",
    "  total = 0\n",
    "  for num in numbers:\n",
    "    total += num\n",
    "  return total\n",
    "\n",
    "numbers = input(\"َAdad RA Ba Fasele Vared Konid: \").split()\n",
    "numbers = [int(num) for num in numbers]\n",
    "result = sum_of_list(numbers)\n",
    "print(\"Sum Of Numbers:\", result)"
   ]
  },
  {
   "cell_type": "code",
   "execution_count": 3,
   "id": "b3dc0244-dc13-41dd-a456-449abbc83cf0",
   "metadata": {},
   "outputs": [
    {
     "name": "stdout",
     "output_type": "stream",
     "text": [
      "True\n",
      "False\n"
     ]
    }
   ],
   "source": [
    "def check_key(dictionary, key):\n",
    "    return key in dictionary\n",
    "\n",
    "# Example usage\n",
    "sample_dict = {'a': 1, 'b': 2, 'c': 3}\n",
    "print(check_key(sample_dict, 'b'))  # Output: True\n",
    "print(check_key(sample_dict, 'z'))  # Output: False\n"
   ]
  },
  {
   "cell_type": "code",
   "execution_count": 11,
   "id": "50f97fcb-1abf-4919-bf35-440e6d701f18",
   "metadata": {},
   "outputs": [
    {
     "name": "stdout",
     "output_type": "stream",
     "text": [
      "dictionary Ra Be Format'key1:value1, key2:value2' Vared Konid:\n"
     ]
    },
    {
     "name": "stdin",
     "output_type": "stream",
     "text": [
      " a:b, c:d\n",
      "Baraye BarRasi Key Ra Vared Konid:  d\n"
     ]
    },
    {
     "name": "stdout",
     "output_type": "stream",
     "text": [
      "False\n"
     ]
    }
   ],
   "source": [
    "def check_key(dictionary, key):\n",
    "    return key in dictionary\n",
    "\n",
    "def get_dictionary_input():\n",
    "    print(\"dictionary Ra Be Format'key1:value1, key2:value2' Vared Konid:\")\n",
    "    user_input = input()\n",
    "    dictionary = dict(item.split(':') for item in user_input.split(', '))\n",
    "    return dictionary\n",
    "\n",
    "\n",
    "dictionary = get_dictionary_input()\n",
    "key = input(\"Baraye BarRasi Key Ra Vared Konid: \")\n",
    "print(check_key(dictionary, key))\n"
   ]
  },
  {
   "cell_type": "code",
   "execution_count": 15,
   "id": "2bcfba67-faef-48e3-96cf-ce6144568680",
   "metadata": {},
   "outputs": [
    {
     "name": "stdin",
     "output_type": "stream",
     "text": [
      "Enter a string to reverse:  abc\n"
     ]
    },
    {
     "name": "stdout",
     "output_type": "stream",
     "text": [
      "Reversed string: cba\n"
     ]
    }
   ],
   "source": [
    "def reverse_string(s):\n",
    "    return s[::-1]\n",
    "    \n",
    "input_string = input(\"Enter a string to reverse: \")\n",
    "print(\"Reversed string:\", reverse_string(input_string))\n"
   ]
  },
  {
   "cell_type": "code",
   "execution_count": null,
   "id": "2e8104c4-829c-49ae-802d-ef301e7e830d",
   "metadata": {},
   "outputs": [],
   "source": []
  }
 ],
 "metadata": {
  "kernelspec": {
   "display_name": "anaconda-2024.02-py310",
   "language": "python",
   "name": "conda-env-anaconda-2024.02-py310-py"
  },
  "language_info": {
   "codemirror_mode": {
    "name": "ipython",
    "version": 3
   },
   "file_extension": ".py",
   "mimetype": "text/x-python",
   "name": "python",
   "nbconvert_exporter": "python",
   "pygments_lexer": "ipython3",
   "version": "3.10.14"
  }
 },
 "nbformat": 4,
 "nbformat_minor": 5
}
