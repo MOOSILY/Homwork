{
 "cells": [
  {
   "cell_type": "code",
   "execution_count": null,
   "id": "b96b7f78-5805-45e5-b72f-e4f20fd6f4be",
   "metadata": {},
   "outputs": [],
   "source": []
  },
  {
   "cell_type": "code",
   "execution_count": 2,
   "id": "5d4dae03-3174-4fe5-a0de-cc41e55ccc6c",
   "metadata": {},
   "outputs": [
    {
     "name": "stdin",
     "output_type": "stream",
     "text": [
      "َAdad RA Ba Fasele Vared Konid:   2 3 4 56 8 9\n"
     ]
    },
    {
     "name": "stdout",
     "output_type": "stream",
     "text": [
      "Sum Of Numbers: 82\n"
     ]
    }
   ],
   "source": [
    "def sum_of_list(numbers):\n",
    "  total = 0\n",
    "  for num in numbers:\n",
    "    total += num\n",
    "  return total\n",
    "\n",
    "numbers = input(\"َAdad RA Ba Fasele Vared Konid: \").split()\n",
    "numbers = [int(num) for num in numbers]\n",
    "result = sum_of_list(numbers)\n",
    "print(\"Sum Of Numbers:\", result)"
   ]
  },
  {
   "cell_type": "code",
   "execution_count": null,
   "id": "50f97fcb-1abf-4919-bf35-440e6d701f18",
   "metadata": {},
   "outputs": [
    {
     "name": "stdout",
     "output_type": "stream",
     "text": [
      "dictionary Ra Be Format'key1:value1, key2:value2' Vared Konid:\n"
     ]
    },
    {
     "name": "stdin",
     "output_type": "stream",
     "text": [
      " as:d, b:v\n",
      "Baraye BarRasi Key Ra Vared Konid:  as\n"
     ]
    }
   ],
   "source": [
    "def check_key(dictionary, key):\n",
    "    return key in dictionary\n",
    "\n",
    "def get_dictionary_input():\n",
    "    print(\"dictionary Ra Be Format'key1:value1, key2:value2' Vared Konid:\")\n",
    "    user_input = input()\n",
    "    dictionary = dict(item.split(':') for item in user_input.split(', '))\n",
    "    return dictionary\n",
    "\n",
    "\n",
    "dictionary = get_dictionary_input()\n",
    "key = input(\"Baraye BarRasi Key Ra Vared Konid: \")\n",
    "print(check_key(dictionary, key))\n"
   ]
  },
  {
   "cell_type": "code",
   "execution_count": null,
   "id": "2bcfba67-faef-48e3-96cf-ce6144568680",
   "metadata": {},
   "outputs": [],
   "source": [
    "def reverse_string(s):\n",
    "    return s[::-1]\n",
    "    \n",
    "input_string = input(\"String Ra Baraye Revers Kardan Vared Konid: \")\n",
    "print(\"Reversed string:\", reverse_string(input_string))\n"
   ]
  },
  {
   "cell_type": "code",
   "execution_count": null,
   "id": "2e8104c4-829c-49ae-802d-ef301e7e830d",
   "metadata": {},
   "outputs": [],
   "source": []
  }
 ],
 "metadata": {
  "kernelspec": {
   "display_name": "anaconda-2024.02-py310",
   "language": "python",
   "name": "conda-env-anaconda-2024.02-py310-py"
  },
  "language_info": {
   "codemirror_mode": {
    "name": "ipython",
    "version": 3
   },
   "file_extension": ".py",
   "mimetype": "text/x-python",
   "name": "python",
   "nbconvert_exporter": "python",
   "pygments_lexer": "ipython3",
   "version": "3.10.14"
  }
 },
 "nbformat": 4,
 "nbformat_minor": 5
}
